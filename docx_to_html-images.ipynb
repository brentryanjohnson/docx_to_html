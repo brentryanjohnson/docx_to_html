{
 "cells": [
  {
   "cell_type": "code",
   "execution_count": 201,
   "id": "bb12b0ab",
   "metadata": {},
   "outputs": [],
   "source": [
    "import mammoth\n",
    "from bs4 import BeautifulSoup\n",
    "import os\n",
    "from docx import Document"
   ]
  },
  {
   "cell_type": "code",
   "execution_count": 202,
   "id": "8829435c",
   "metadata": {},
   "outputs": [],
   "source": [
    "input_filename = \"tsa_report.docx\"\n",
    "output_filename = \"ugly_output.html\"\n",
    "pretty_filename = \"pretty_output.html\"\n",
    "\n",
    "custom_styles = \"\"\" table => table.usa-table.usa-table--stacked\n",
    "                    \"\"\""
   ]
  },
  {
   "cell_type": "code",
   "execution_count": 203,
   "id": "5d24d5be",
   "metadata": {},
   "outputs": [
    {
     "name": "stdout",
     "output_type": "stream",
     "text": [
      "Extracted 9 images\n",
      "Prettified HTML content is at pretty_output.html\n"
     ]
    }
   ],
   "source": [
    "# Create images folder if it doesn't exist\n",
    "if not os.path.exists(images_folder):\n",
    "    os.makedirs(images_folder)\n",
    "\n",
    "def extract_images(docx_file):\n",
    "    document = Document(docx_file)\n",
    "    image_index = 0\n",
    "    image_info = []\n",
    "\n",
    "    for rel in document.part.rels.values():\n",
    "        if \"image\" in rel.target_ref:\n",
    "            image = rel.target_part.blob\n",
    "            image_extension = os.path.splitext(rel.target_ref)[-1].replace('.', '')\n",
    "            image_name = f\"image_{image_index}.{image_extension}\"\n",
    "            image_path = os.path.join(images_folder, image_name)\n",
    "            \n",
    "            # Save image to folder\n",
    "            with open(image_path, \"wb\") as image_file:\n",
    "                image_file.write(image)\n",
    "            \n",
    "            alt_text = rel.target_part.alt_text if hasattr(rel.target_part, 'alt_text') else \"No alt text available\"\n",
    "            image_info.append((image_name, alt_text))\n",
    "            image_index += 1\n",
    "\n",
    "    return image_info\n",
    "\n",
    "image_index = 0\n",
    "\n",
    "with open(input_filename, \"rb\") as docx_file:\n",
    "    # Extract images manually\n",
    "    images = extract_images(docx_file)\n",
    "    print(f\"Extracted {len(images)} images\")\n",
    "\n",
    "    # Convert DOCX to HTML without images\n",
    "    result = mammoth.convert_to_html(docx_file, style_map=custom_styles)\n",
    "    html = result.value\n",
    "\n",
    "# Parse the HTML with BeautifulSoup\n",
    "soup = BeautifulSoup(html, \"html.parser\")\n",
    "\n",
    "# Add comments with image alt text only and remove <p> wrapping\n",
    "for image in soup.find_all(\"img\"):\n",
    "    alt_text = image.get(\"alt\", \"No alt text available\")\n",
    "    comment = soup.new_tag(\"comment\")\n",
    "    comment.string = f\" Alt text: {alt_text} \"\n",
    "    image.replace_with(comment)\n",
    "\n",
    "# Remove any <p> elements that wrap comments\n",
    "for p in soup.find_all(\"p\"):\n",
    "    if p.string and \"Alt text:\" in p.string:\n",
    "        p.unwrap()\n",
    "\n",
    "# Find all tables and convert the first row to thead\n",
    "for table in soup.find_all(\"table\"):\n",
    "    first_row = table.find(\"tr\")\n",
    "    if first_row:\n",
    "        thead = soup.new_tag(\"thead\")\n",
    "        tbody = soup.new_tag(\"tbody\")\n",
    "\n",
    "        # Move all tr tags from table to tbody, then move the first tr to thead\n",
    "        for row in table.find_all(\"tr\"):\n",
    "            tbody.append(row)\n",
    "        thead.append(tbody.contents[0])\n",
    "        \n",
    "        # Remove existing tr elements from table and append thead and tbody\n",
    "        table.clear()\n",
    "        table.append(thead)\n",
    "        table.append(tbody)\n",
    "        \n",
    "        # Remove any <p> elements within tables\n",
    "        for p in table.find_all(\"p\"):\n",
    "            p.unwrap()\n",
    "\n",
    "pretty_html = soup.prettify()\n",
    "\n",
    "with open(pretty_filename, \"w\", encoding=\"utf-8\") as file:\n",
    "    file.write(pretty_html)\n",
    "\n",
    "print(f\"Prettified HTML content is at {pretty_filename}\")\n"
   ]
  }
 ],
 "metadata": {
  "kernelspec": {
   "display_name": "Python 3 (ipykernel)",
   "language": "python",
   "name": "python3"
  },
  "language_info": {
   "codemirror_mode": {
    "name": "ipython",
    "version": 3
   },
   "file_extension": ".py",
   "mimetype": "text/x-python",
   "name": "python",
   "nbconvert_exporter": "python",
   "pygments_lexer": "ipython3",
   "version": "3.10.9"
  }
 },
 "nbformat": 4,
 "nbformat_minor": 5
}

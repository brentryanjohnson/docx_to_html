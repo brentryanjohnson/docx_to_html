{
 "cells": [
  {
   "cell_type": "code",
   "execution_count": 26,
   "id": "bb12b0ab",
   "metadata": {},
   "outputs": [],
   "source": [
    "import mammoth\n",
    "from bs4 import BeautifulSoup"
   ]
  },
  {
   "cell_type": "code",
   "execution_count": 27,
   "id": "8829435c",
   "metadata": {},
   "outputs": [],
   "source": [
    "input_filename = \"tsa_report.docx\"\n",
    "output_filename = \"ugly_output.html\"\n",
    "\n",
    "custom_styles = \"\"\" table => table.usa-table.usa-table--stacked\n",
    "                    \"\"\""
   ]
  },
  {
   "cell_type": "code",
   "execution_count": 28,
   "id": "4dfcf66f",
   "metadata": {},
   "outputs": [],
   "source": [
    "def ignore_image(image):\n",
    "    return []"
   ]
  },
  {
   "cell_type": "code",
   "execution_count": 29,
   "id": "30c8cc3c",
   "metadata": {},
   "outputs": [],
   "source": [
    "with open(input_filename, \"rb\") as docx_file:\n",
    "    result = mammoth.convert_to_html(docx_file, style_map = custom_styles, convert_image=ignore_image)\n",
    "    html = result.value\n",
    "\n",
    "with open(output_filename, \"w\", encoding=\"utf-8\") as html_file:\n",
    "    html_file.write(html)"
   ]
  },
  {
   "cell_type": "code",
   "execution_count": 30,
   "id": "321cd3ee",
   "metadata": {},
   "outputs": [
    {
     "name": "stdout",
     "output_type": "stream",
     "text": [
      "Prettified HTML content has been written to pretty_output.html\n"
     ]
    }
   ],
   "source": [
    "# Find all tables and convert the first row to thead\n",
    "for table in soup.find_all(\"table\"):\n",
    "    first_row = table.find(\"tr\")\n",
    "    if first_row:\n",
    "        thead = soup.new_tag(\"thead\")\n",
    "        tbody = soup.new_tag(\"tbody\")\n",
    "\n",
    "        # Move all tr tags from table to tbody, then move the first tr to thead\n",
    "        for row in table.find_all(\"tr\"):\n",
    "            tbody.append(row)\n",
    "        thead.append(tbody.contents[0])\n",
    "        \n",
    "        # Remove existing tr elements from table and append thead and tbody\n",
    "        table.clear()\n",
    "        table.append(thead)\n",
    "        table.append(tbody)\n",
    "        \n",
    "        # Remove any <p> elements within tables\n",
    "        for p in table.find_all(\"p\"):\n",
    "            p.unwrap()\n",
    "\n",
    "# Prettify the HTML\n",
    "pretty_html = soup.prettify()\n",
    "\n",
    "# Write the prettified HTML to a new file\n",
    "with open(output_file_path, \"w\", encoding=\"utf-8\") as file:\n",
    "    file.write(pretty_html)\n",
    "\n",
    "print(f\"Prettified HTML content is at {output_file_path}\")"
   ]
  }
 ],
 "metadata": {
  "kernelspec": {
   "display_name": "Python 3 (ipykernel)",
   "language": "python",
   "name": "python3"
  },
  "language_info": {
   "codemirror_mode": {
    "name": "ipython",
    "version": 3
   },
   "file_extension": ".py",
   "mimetype": "text/x-python",
   "name": "python",
   "nbconvert_exporter": "python",
   "pygments_lexer": "ipython3",
   "version": "3.10.9"
  }
 },
 "nbformat": 4,
 "nbformat_minor": 5
}

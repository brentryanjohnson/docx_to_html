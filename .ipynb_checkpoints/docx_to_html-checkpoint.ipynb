{
 "cells": [
  {
   "cell_type": "code",
   "execution_count": 1,
   "id": "bb12b0ab",
   "metadata": {},
   "outputs": [],
   "source": [
    "import mammoth\n",
    "from bs4 import BeautifulSoup"
   ]
  },
  {
   "cell_type": "code",
   "execution_count": 2,
   "id": "8829435c",
   "metadata": {},
   "outputs": [],
   "source": [
    "input_filename = \"ohss_style_guide.docx\"\n",
    "output_filename = \"ugly_output.html\"\n",
    "\n",
    "custom_styles = \"\"\" table => table.usa-table.usa-table--stacked\n",
    "                    \"\"\""
   ]
  },
  {
   "cell_type": "code",
   "execution_count": 3,
   "id": "4dfcf66f",
   "metadata": {},
   "outputs": [],
   "source": [
    "def ignore_image(image):\n",
    "    return []"
   ]
  },
  {
   "cell_type": "code",
   "execution_count": 4,
   "id": "30c8cc3c",
   "metadata": {},
   "outputs": [],
   "source": [
    "with open(input_filename, \"rb\") as docx_file:\n",
    "    result = mammoth.convert_to_html(docx_file, style_map = custom_styles, convert_image=ignore_image)\n",
    "    html = result.value\n",
    "\n",
    "with open(output_filename, \"w\", encoding=\"utf-8\") as html_file:\n",
    "    html_file.write(html)"
   ]
  },
  {
   "cell_type": "code",
   "execution_count": 5,
   "id": "321cd3ee",
   "metadata": {},
   "outputs": [
    {
     "ename": "NameError",
     "evalue": "name 'soup' is not defined",
     "output_type": "error",
     "traceback": [
      "\u001b[1;31m---------------------------------------------------------------------------\u001b[0m",
      "\u001b[1;31mNameError\u001b[0m                                 Traceback (most recent call last)",
      "Cell \u001b[1;32mIn[5], line 2\u001b[0m\n\u001b[0;32m      1\u001b[0m \u001b[38;5;66;03m# Find all tables and convert the first row to thead\u001b[39;00m\n\u001b[1;32m----> 2\u001b[0m \u001b[38;5;28;01mfor\u001b[39;00m table \u001b[38;5;129;01min\u001b[39;00m \u001b[43msoup\u001b[49m\u001b[38;5;241m.\u001b[39mfind_all(\u001b[38;5;124m\"\u001b[39m\u001b[38;5;124mtable\u001b[39m\u001b[38;5;124m\"\u001b[39m):\n\u001b[0;32m      3\u001b[0m     first_row \u001b[38;5;241m=\u001b[39m table\u001b[38;5;241m.\u001b[39mfind(\u001b[38;5;124m\"\u001b[39m\u001b[38;5;124mtr\u001b[39m\u001b[38;5;124m\"\u001b[39m)\n\u001b[0;32m      4\u001b[0m     \u001b[38;5;28;01mif\u001b[39;00m first_row:\n",
      "\u001b[1;31mNameError\u001b[0m: name 'soup' is not defined"
     ]
    }
   ],
   "source": [
    "# Find all tables and convert the first row to thead\n",
    "for table in soup.find_all(\"table\"):\n",
    "    first_row = table.find(\"tr\")\n",
    "    if first_row:\n",
    "        thead = soup.new_tag(\"thead\")\n",
    "        tbody = soup.new_tag(\"tbody\")\n",
    "\n",
    "        # Move all tr tags from table to tbody, then move the first tr to thead\n",
    "        for row in table.find_all(\"tr\"):\n",
    "            tbody.append(row)\n",
    "        thead.append(tbody.contents[0])\n",
    "        \n",
    "        # Remove existing tr elements from table and append thead and tbody\n",
    "        table.clear()\n",
    "        table.append(thead)\n",
    "        table.append(tbody)\n",
    "        \n",
    "        # Remove any <p> elements within tables\n",
    "        for p in table.find_all(\"p\"):\n",
    "            p.unwrap()\n",
    "\n",
    "# Prettify the HTML\n",
    "pretty_html = soup.prettify()\n",
    "\n",
    "# Write the prettified HTML to a new file\n",
    "with open(output_file_path, \"w\", encoding=\"utf-8\") as file:\n",
    "    file.write(pretty_html)\n",
    "\n",
    "print(f\"Prettified HTML content is at {output_file_path}\")"
   ]
  }
 ],
 "metadata": {
  "kernelspec": {
   "display_name": "Python 3 (ipykernel)",
   "language": "python",
   "name": "python3"
  },
  "language_info": {
   "codemirror_mode": {
    "name": "ipython",
    "version": 3
   },
   "file_extension": ".py",
   "mimetype": "text/x-python",
   "name": "python",
   "nbconvert_exporter": "python",
   "pygments_lexer": "ipython3",
   "version": "3.10.9"
  }
 },
 "nbformat": 4,
 "nbformat_minor": 5
}

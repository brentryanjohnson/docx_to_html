{
 "cells": [
  {
   "cell_type": "code",
   "execution_count": 29,
   "id": "bb12b0ab",
   "metadata": {},
   "outputs": [],
   "source": [
    "import mammoth\n",
    "from bs4 import BeautifulSoup\n",
    "import os"
   ]
  },
  {
   "cell_type": "code",
   "execution_count": 30,
   "id": "4dfcf66f",
   "metadata": {},
   "outputs": [
    {
     "name": "stdout",
     "output_type": "stream",
     "text": [
      "Prettified HTML content for Table 1.docx is at output_html\\Table 1_pretty_output.html\n",
      "Prettified HTML content for Table 2.docx is at output_html\\Table 2_pretty_output.html\n",
      "Prettified HTML content for Table 3.docx is at output_html\\Table 3_pretty_output.html\n",
      "Prettified HTML content for Table 4.docx is at output_html\\Table 4_pretty_output.html\n",
      "Prettified HTML content for Table 5.docx is at output_html\\Table 5_pretty_output.html\n",
      "Prettified HTML content for Table 6.docx is at output_html\\Table 6_pretty_output.html\n"
     ]
    }
   ],
   "source": [
    "input_directory = \"2023\"  # Directory containing DOCX files\n",
    "output_directory = \"output_html\"  # Directory to store the output HTML files\n",
    "\n",
    "custom_styles = \"\"\"table => table.usa-table\"\"\"\n",
    "\n",
    "def ignore_image(image):\n",
    "    return []\n",
    "\n",
    "# Create output directory if it does not exist\n",
    "if not os.path.exists(output_directory):\n",
    "    os.makedirs(output_directory)\n",
    "\n",
    "# Get list of DOCX files in input directory\n",
    "input_filenames = [f for f in os.listdir(input_directory) if f.endswith('.docx')]\n",
    "\n",
    "for input_filename in input_filenames:\n",
    "    input_filepath = os.path.join(input_directory, input_filename)\n",
    "    output_filename = os.path.join(output_directory, f\"{os.path.splitext(input_filename)[0]}_ugly_output.html\")\n",
    "    pretty_filename = os.path.join(output_directory, f\"{os.path.splitext(input_filename)[0]}_pretty_output.html\")\n",
    "\n",
    "    with open(input_filepath, \"rb\") as docx_file:\n",
    "        result = mammoth.convert_to_html(docx_file, style_map=custom_styles, convert_image=ignore_image)\n",
    "        html = result.value\n",
    "\n",
    "    with open(output_filename, \"w\", encoding=\"utf-8\") as html_file:\n",
    "        html_file.write(html)\n",
    "\n",
    "    # Create an instance of BeautifulSoup and assign it to the variable 'soup'\n",
    "    soup = BeautifulSoup(html, \"html.parser\")\n",
    "\n",
    "    # Find all tables and wrap them in a div with a custom style\n",
    "    for table in soup.find_all(\"table\"):\n",
    "        div = soup.new_tag(\"div\", **{\"class\": \"usa-table-container--scrollable\"})\n",
    "        table.wrap(div)\n",
    "        \n",
    "        first_row = table.find(\"tr\")\n",
    "        if first_row:\n",
    "            thead = soup.new_tag(\"thead\")\n",
    "            tbody = soup.new_tag(\"tbody\")\n",
    "\n",
    "            # Move all tr tags from table to tbody, then move the first tr to thead\n",
    "            for row in table.find_all(\"tr\"):\n",
    "                tbody.append(row)\n",
    "            thead.append(tbody.contents[0])\n",
    "\n",
    "            # Remove existing tr elements from table and append thead and tbody\n",
    "            table.clear()\n",
    "            table.append(thead)\n",
    "            table.append(tbody)\n",
    "\n",
    "            # Remove any <p> elements within tables\n",
    "            for p in table.find_all(\"p\"):\n",
    "                p.unwrap()\n",
    "\n",
    "            # Right-align the td elements in the thead, except for the first column\n",
    "            for row in thead.find_all(\"tr\"):\n",
    "                for i, cell in enumerate(row.find_all(\"td\")):\n",
    "                    if i > 0:  # Skip the first column\n",
    "                        cell['style'] = 'text-align: right;'\n",
    "\n",
    "            # Right-align the td elements in the tbody, except for the first column\n",
    "            for row in tbody.find_all(\"tr\"):\n",
    "                for i, cell in enumerate(row.find_all(\"td\")):\n",
    "                    if i > 0:  # Skip the first column\n",
    "                        cell['style'] = 'text-align: right;'\n",
    "\n",
    "    # Prettify the HTML\n",
    "    pretty_html = soup.prettify()\n",
    "\n",
    "    # Write the prettified HTML to a new file\n",
    "    with open(pretty_filename, \"w\", encoding=\"utf-8\") as file:\n",
    "        file.write(pretty_html)\n",
    "\n",
    "    print(f\"Prettified HTML content for {input_filename} is at {pretty_filename}\")\n"
   ]
  }
 ],
 "metadata": {
  "kernelspec": {
   "display_name": "Python 3 (ipykernel)",
   "language": "python",
   "name": "python3"
  },
  "language_info": {
   "codemirror_mode": {
    "name": "ipython",
    "version": 3
   },
   "file_extension": ".py",
   "mimetype": "text/x-python",
   "name": "python",
   "nbconvert_exporter": "python",
   "pygments_lexer": "ipython3",
   "version": "3.10.9"
  }
 },
 "nbformat": 4,
 "nbformat_minor": 5
}
